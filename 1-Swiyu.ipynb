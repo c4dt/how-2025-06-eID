{
 "cells": [
  {
   "cell_type": "markdown",
   "id": "0722b91b-a5fd-445f-abd5-056b64fd6b54",
   "metadata": {},
   "source": [
    "# 1 - Swiyu Signup and Exploration\n",
    "\n",
    "Ahmed: Copy 1.1 - Goals from presentation here as a table\n",
    "\n",
    "Ahmed: synchronize with the other headings, so there is the same number of headings\n",
    "\n",
    "Ahmed: change all swiyu to swiyu\n",
    "\n",
    "Ahmed: syntax checking text\n",
    "\n",
    "Short overview of what we'll be doing:\n",
    "\n",
    "1. Installing and creating credential\n",
    "2. Using the HoW credential\n",
    "3. Inspect messages from logs\n",
    "4. Check linkability of presentations"
   ]
  },
  {
   "cell_type": "markdown",
   "id": "6010e64b-ce76-4fcd-b31e-c42687a0d556",
   "metadata": {},
   "source": [
    "## 1.1 - Install the swiyu app\n",
    "\n",
    "The swiyu project includes a wallet app that we use to store the credentials obtained from the the different issuers that adhere to the SWIYU issuer specification.  \n",
    "The wallet will also be used to perform and provide verifications to verifiers that adhere to the SWIYU verifiers specification.\n",
    "\n",
    "a.\thttps://play.google.com/store/apps/details?id=ch.admin.foitt.swiyu&hl=en&pli=1  \n",
    "b.\thttps://apps.apple.com/ch/app/swiyu/id6737259614\n",
    "\n",
    "### Discussion Points\n",
    "\n",
    "- what is the main usage of the swiyu app?\n",
    "- what security is given?"
   ]
  },
  {
   "cell_type": "markdown",
   "id": "b46dd5c6-445b-4d18-93b2-383fc1e44af9",
   "metadata": {},
   "source": [
    "## 1.2 - Get a Beta Government E-ID\n",
    "\n",
    "Ahmed: Introduction: it is a test ID, summary of steps\n",
    "\n",
    "from: https://www.bcs.admin.ch/bcs-web/#/beta-id/create\n",
    "\n",
    "### Discussion Points\n",
    "\n",
    "- how does this work with the \"real\" E-ID?\n",
    "- which data is stored where?"
   ]
  },
  {
   "cell_type": "markdown",
   "id": "c5b6cb4a-3d79-4ade-8b1a-528431cc3ebb",
   "metadata": {},
   "source": [
    "## 1.3 - Create an E-ID HoW Credential\n",
    "\n",
    "Ahmed: create a short paragraph for introduction.\n",
    "\n",
    "Go to https://eid.c4dt.org and navigate to the issuer section  \n",
    "a.\tThe website will ask you to verify you identity first  \n",
    "b.\tthen it will issue you a credential for attending the workshop  \n",
    "c.  All data will be populated from the Beta ID credential you verified except the grade, you will get to set that yourself.  \n",
    "d.\tYou will receive the credential on your wallet.\n",
    "\n",
    "### Discussion Points\n",
    "\n",
    "- how is the test ID linked to the HoW Credential?\n",
    "- which messages are exchanged between the wallet and the issuer?\n",
    "- how is the issuer configured and certified?\n",
    "- how does the issuer verify the validity of the test ID?"
   ]
  },
  {
   "cell_type": "markdown",
   "id": "f170874b-8f5a-4b1e-86ba-591c5db85dbd",
   "metadata": {},
   "source": [
    "## 1.4 - Verify your Credential\n",
    "\n",
    "Ahmed: create a short paragraph for introduction.\n",
    "\n",
    "Go to https://eid.c4dt.org/verifier/verify where you will verify your newly gained VC.\n",
    "\n",
    "### Discussion Points\n",
    "\n",
    "- which messages are exchanged between the wallet and the issuer?\n",
    "- supposing the credential is unlinkable, under which conditions is the presentation/verification also unlinkable?"
   ]
  },
  {
   "cell_type": "markdown",
   "id": "1827086e-7dc8-4c5c-996b-99cdb5078c3e",
   "metadata": {},
   "source": [
    "## 1.5 - Inspect Logs\n",
    "\n",
    "Ahmed: create a short paragraph for introduction.\n",
    "\n",
    "Go to https://eid.c4dt.org/logs where you will find the server logs that match your queries.  \n",
    "Look  for the logs that match your VC presentation (the request that goes out from your wallet when you scan the QR code to verify your newly acquired VC.)\n",
    "\n",
    "### Tips to find your logs\n",
    "\n",
    "Find your specific VC presentation request in the logs. Hint: look for the:\n",
    "    a.\tTimestamp - when you made the request  \n",
    "    b.\tThe request content is preceeded by `=== REQUEST BODY ===`\n",
    "    c.  And the body is preceeded by `=== RESPONSE BODY ===`\n",
    "\n",
    "### Discussion Points\n",
    "\n",
    "- who can see these messages?\n",
    "- what will an attacker-in-the middle see, e.g., in an unsecured WiFi connection?"
   ]
  },
  {
   "cell_type": "markdown",
   "id": "07d68c7a-d34c-47c8-ac54-3130f2275e19",
   "metadata": {},
   "source": [
    "## 1.6 - Analyze Logs\n",
    "\n",
    "Ahmed: create a short paragraph for introduction.\n",
    "\n",
    "1.\tThe presentation is URL-encoded, so decode it first using python xyz\n",
    "2.\tFrom the decoded request body, find the encoded VC presentation. \n",
    "3.\tUse https://www.sdjwt.co/decode to decode the presentation.\n",
    "4.  Identify the different types of information stored there.\n",
    "\n",
    "### Discussion Points\n",
    "\n",
    "- Which parts do you think can be used to link two presentations?\n",
    "- Look how the selective disclosure works when disclosing different parts of your credential\n",
    "  - How is the data secured?\n",
    "  - Why isn't it possible to guess low-entropy entries like the postal code?"
   ]
  },
  {
   "cell_type": "code",
   "execution_count": null,
   "id": "3f7a7724-136d-44fe-a5d1-afcfb4221ea8",
   "metadata": {},
   "outputs": [],
   "source": [
    "# Use a python base64 decoder of the data to show the main representation\n",
    "\n",
    "# Ahmed: write 'import' and 'print(base64.decode(\"abcd\"))`"
   ]
  },
  {
   "cell_type": "markdown",
   "id": "f419cf52-c3be-49a7-9228-02e95c9ae1c3",
   "metadata": {},
   "source": [
    "## 1.7 - Linkability of Multiple Presentations\n",
    "\n",
    "Ahmed: create a short paragraph for introduction. E.g., let's look how two presentations from an unlinkable \n",
    "field like the grade can still be linked to the same holder.\n",
    "\n",
    "Do two verifications of the HoW credential, fetch the presentation from the Logs, and search for fixed strings.\n",
    "\n",
    "### Discussion Points\n",
    "\n",
    "- What can make it very hard to avoid linkability when you think about the fields you're sharing with the Verifier?\n",
    "- Which fields can be revealed and keep anonymity?\n",
    "- Check with your neighbours to see which fields are constant between two wallets\n",
    "- What is a simple way to remove some of the linkability?"
   ]
  },
  {
   "cell_type": "code",
   "execution_count": null,
   "id": "1a0f6c92-387e-4a74-8a86-aeba72f2cef3",
   "metadata": {},
   "outputs": [],
   "source": []
  }
 ],
 "metadata": {
  "kernelspec": {
   "display_name": "Python 3",
   "language": "python",
   "name": "python3"
  },
  "language_info": {
   "codemirror_mode": {
    "name": "ipython",
    "version": 3
   },
   "file_extension": ".py",
   "mimetype": "text/x-python",
   "name": "python",
   "nbconvert_exporter": "python",
   "pygments_lexer": "ipython3",
   "version": "3.12.10"
  }
 },
 "nbformat": 4,
 "nbformat_minor": 5
}
