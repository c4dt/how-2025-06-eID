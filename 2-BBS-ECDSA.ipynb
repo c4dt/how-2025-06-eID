{
 "cells": [
  {
   "cell_type": "markdown",
   "id": "d71b00f8-89da-4326-a586-185cf2516ebb",
   "metadata": {},
   "source": [
    "# 2 - BBS with ECDSA Holder Binding\n",
    "\n",
    "While BBS allows to present parts of the Verifiable Credential in an anonymous\n",
    "and unlinkable manner, there are limits.\n",
    "The [RFC](https://datatracker.ietf.org/doc/draft-irtf-cfrg-bbs-signatures/) only\n",
    "supports selective disclosure.\n",
    "This works for fields which have a big anonymity set, like the NPA, or the canton of\n",
    "residence.\n",
    "However, for more linkable fields, like the birthdate, full name, the anonymity set\n",
    "gets very small and can drop to 1.\n",
    "An anonymity set of 1 means that there is only one VC with that field, so it can\n",
    "be linked between usages.\n",
    "\n",
    "To achieve holder binding, it is necessary to sign each presentation of a VC\n",
    "with the private key of the device.\n",
    "For the verification part, the verifier usually needs the public key.\n",
    "However, this public key is unique.\n",
    "Even worse, the holder binding needs to be done for every presentation of the VC,\n",
    "so all presentations can be linked!\n",
    "\n",
    "One way to solve this is to create many VCs for a user, each VC with a corresponding\n",
    "public key created by the Secure Element of the wallet, e.g., the phone.\n",
    "This is not an ideal solution for the following reasons: \n",
    "\n",
    "- it increases load on the server who has to issue VCs on a regular basis\n",
    "- to increase privacy, these must be renewed, even if the VCs are not used\n",
    "- some secure elements have a limit of how many private keys they can store\n",
    "\n",
    "Several other solutions have been proposed so far:\n",
    "\n",
    "- BBS# from Orange - which is missing a scientific paper\n",
    "[Presentation](https://csrc.nist.gov/csrc/media/presentations/2024/wpec2024-3b3/images-media/wpec2024-3b3-slides-antoine-jacques--BBS-sharp-eIDAS2.pdf)\n",
    "- Google ZKP, presented at Funke 24 - but in June '25 there is still no code available\n",
    "- Ubique proposed a solution based on [ZKAttest](https://eprint.iacr.org/2021/1183) - with code available, and based on a peer-reviewed paper from Cloudflare"
   ]
  },
  {
   "cell_type": "markdown",
   "id": "f0f9fce1-de8c-4cf2-b6aa-088f2fcb1c32",
   "metadata": {},
   "source": [
    "## ZKAttest from Cloudflare\n",
    "\n",
    "The ZKAttest paper from Cloudflare presents an interesting solution to create ZKPs\n",
    "on operations for the P-256 curve.\n",
    "In short, they use a new elliptic curve with properties allowing it to create short\n",
    "proofs on operations on the P-256 curve.\n",
    "This new curve is introduced in the ZKAttest paper and called `T-256`, or `Tom-256`.\n",
    "While the solution from Google is very generic and works even with an example\n",
    "using mDoc, the `T-256` curve is only useful if the VC is based on BBS(+).\n",
    "\n",
    "As with SD-JWT, the holder gets their VC from the issuer:\n",
    "\n",
    "1. The holder proves their identity, creates a keypair with their Secure Element, and sends the public key to the issuer\n",
    "2. The issuer creates a VC with all value of the fields hashed, including the public key from the holder\n",
    "3. The issuer signs the VC using the its secret key, and sends it to the holder\n",
    "4. The holder stores this VC in their device\n",
    "\n",
    "Unlike the SD-JWT, the BBS VC can be 'blinded', but still be verified using the public\n",
    "key from the issuer."
   ]
  },
  {
   "cell_type": "markdown",
   "id": "f9468a6e-3268-4290-8753-66e99448351f",
   "metadata": {},
   "source": [
    "## 2.1 - Setting up the systems\n",
    "\n",
    "In a first step, you need to create the three main actors of this exercise:\n",
    "\n",
    "- `Issuer` represents the servers run by the Swiss government, and which can issue credentials representing a person.\n",
    "For this exercise we don't consider other issuers, like ticket issuers, diploma issuers, or others.\n",
    "The issuer has a certificate, its public key, which can be used by the verifier to check if the holder presents a\n",
    "valid proof.\n",
    "- `Holder` is the user who wants to participate in the E-ID system. Technically, the holder is represented by a mobile\n",
    "phone, which has the `secure_element()` and the `swiyu()` application. The holder only has access to the public key\n",
    "of the `secure_element()`, which makes all of this work necessary to prove they have a valid credential.\n",
    "- `Verifier` requests a proof from the holder that they have been verified by the issuer. In this exercise we show\n",
    "how this proof cannot been linked between two presentations, as all its fields are different.\n",
    "\n",
    "A fourth element is already initialized: the `Setup` represents publicly known cryptographic data which must be shared\n",
    "between the issuer, the holder, and the verifier. It needs to be passed to each of the three main actors, so that\n",
    "they have the same setup.\n",
    "\n",
    "!! Rust being rust, we need to mark the variables as `mut`, so they can change their values later in the exercises:\n",
    "\n",
    "```rust\n",
    "let mut issuer = ...\n",
    "```"
   ]
  },
  {
   "cell_type": "code",
   "execution_count": 7,
   "id": "c37f2626-9bd3-4150-b71a-19abff875f77",
   "metadata": {},
   "outputs": [
    {
     "name": "stdout",
     "output_type": "stream",
     "text": [
      "Setting up systems\n"
     ]
    }
   ],
   "source": [
    ":dep ./ecdsa_proof\n",
    "\n",
    "use ecdsa_proof::*;\n",
    "\n",
    "println!(\"Setting up systems\");\n",
    "let setup = Setup::new();\n",
    "let mut issuer = Issuer::new(setup.clone());\n",
    "let mut holder = MobilePhone::new(setup.clone());\n",
    "let mut verifier = Verifier::new(setup.clone(), issuer.get_certificate());"
   ]
  },
  {
   "cell_type": "markdown",
   "id": "2206f3a1-af8a-4e19-8cb6-80ee1561e6a7",
   "metadata": {},
   "source": [
    "## 2.2 - Installing the Swiyu app and adding a credential\n",
    "\n",
    "Now we use the `holder` variable, which represents the mobile phone, and 'install' the Swiyu app.\n",
    "The installation is done in a much more manual way than a standard user will be doing.\n",
    "The goal here is to show the necessary steps and the data exchange between the different actors.\n",
    "\n",
    "1. Install the Swiyu-app\n",
    "2. Create a keypair from the `secure_element()`\n",
    "3. Fetch a new credential from the `issuer`, passing it the public key\n",
    "4. Adding the credential to the `swiyu()` app"
   ]
  },
  {
   "cell_type": "code",
   "execution_count": 8,
   "id": "16c87a74-1218-4332-be13-cc24172f3147",
   "metadata": {},
   "outputs": [
    {
     "name": "stdout",
     "output_type": "stream",
     "text": [
      "Creating a credential\n"
     ]
    }
   ],
   "source": [
    "// Install the swiyu app and add a credential\n",
    "println!(\"Creating a credential\");\n",
    "holder.install_swiyu();\n",
    "let key_pub: SecP256Affine = holder.secure_element().create_kp();\n",
    "let credential = issuer.new_credential(key_pub);\n",
    "holder.swiyu().add_vc(0, credential);"
   ]
  },
  {
   "cell_type": "markdown",
   "id": "eae82b8c-6bd0-4907-b680-a6b5778dfe93",
   "metadata": {},
   "source": [
    "## 2.3 - Requesting a proof from the holder\n",
    "\n",
    "Now that the holder has their credential, they are ready to use it.\n",
    "For our very simple example, we suppose that a verifier wants to request information from a holder.\n",
    "The verifier starts with a random message, to make sure that the proof cannot be used in another\n",
    "context.\n",
    "Here are the different steps necessary for the proof generation by the holder:\n",
    "\n",
    "1. The `verifier` creates a new, random, message and sends it to the holder\n",
    "2. The `holder` uses their `swiyu()` to create a `blinded_presentation` of their credential\n",
    "3. Then the `holder` creates a signature on the `message` sent by the `verifier`\n",
    "4. Finally the `holder` creates a proof that:\n",
    "  - they know a public key `p` which can be used to verify the signature\n",
    "  - this public key `p` is represented in the `blinded_presentation` of the credential"
   ]
  },
  {
   "cell_type": "code",
   "execution_count": 9,
   "id": "2e20a6a4-6b31-4265-8733-713a5850cd8a",
   "metadata": {},
   "outputs": [
    {
     "name": "stdout",
     "output_type": "stream",
     "text": [
      "Requesting a presentation\n",
      "Creating a presentation and an ECDSA proof\n"
     ]
    }
   ],
   "source": [
    "// Verifier requests a presentation from the holder\n",
    "println!(\"Requesting a presentation\");\n",
    "// TODO: rename to challenge\n",
    "let message: SecP256Fr = verifier.create_message();\n",
    "\n",
    "// Holder creates a blinded presentation, an ECDSA signature, and a proof.\n",
    "// This is of course all done in the Swiyu app, but here we do it step-by-step.\n",
    "println!(\"Creating a presentation and an ECDSA proof\");\n",
    "let presentation = holder.swiyu().blinded_presentation();\n",
    "let signature: ecdsa::Signature = holder.secure_element().sign(0, message);\n",
    "let proof = ECDSAProof::new(setup, key_pub, presentation.clone(), signature, message);"
   ]
  },
  {
   "cell_type": "markdown",
   "id": "5ead5fb9-df74-43af-82f1-60c671dc0228",
   "metadata": {},
   "source": [
    "## 2.4 - Verifying the proof\n",
    "\n",
    "Now the `verifier` gets the proof, and can verify that:\n",
    "- it is a valid signature by the `issuer`\n",
    "- it has been signed by the public key hidden in the presentation"
   ]
  },
  {
   "cell_type": "code",
   "execution_count": 10,
   "id": "e66f82cf-8329-4f95-ae16-5a01a6175a6f",
   "metadata": {},
   "outputs": [
    {
     "name": "stdout",
     "output_type": "stream",
     "text": [
      "Verify the ECDSA proof\n",
      "All good!\n"
     ]
    }
   ],
   "source": [
    "// Holder sends the proof to the verifier, which checks it.\n",
    "println!(\"Verify the ECDSA proof\");\n",
    "verifier.check_proof(message, presentation.clone(), proof.clone());\n",
    "\n",
    "println!(\"All good!\");"
   ]
  },
  {
   "cell_type": "code",
   "execution_count": null,
   "id": "5a4870c0-d0fb-43b0-9b71-07d7a357e898",
   "metadata": {},
   "outputs": [],
   "source": []
  }
 ],
 "metadata": {
  "kernelspec": {
   "display_name": "Rust",
   "language": "rust",
   "name": "rust"
  },
  "language_info": {
   "codemirror_mode": "rust",
   "file_extension": ".rs",
   "mimetype": "text/rust",
   "name": "Rust",
   "pygment_lexer": "rust",
   "version": ""
  }
 },
 "nbformat": 4,
 "nbformat_minor": 5
}
