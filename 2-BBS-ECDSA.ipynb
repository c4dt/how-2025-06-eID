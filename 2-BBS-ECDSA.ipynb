{
 "cells": [
  {
   "cell_type": "markdown",
   "id": "d71b00f8-89da-4326-a586-185cf2516ebb",
   "metadata": {},
   "source": [
    "# BBS with ECDSA Holder Binding\n",
    "\n",
    "While BBS allows to present parts of the Verifiable Credential in an anonymous\n",
    "and unlinkable manner, there are limits.\n",
    "The [RFC](https://datatracker.ietf.org/doc/draft-irtf-cfrg-bbs-signatures/) only\n",
    "supports selective disclosure.\n",
    "This works for fields which have a big anonymity set, like the NPA, or the canton of\n",
    "residence.\n",
    "However, for more linkable fields, like the birthdate, full name, the anonymity set\n",
    "gets very small and can drop to 1.\n",
    "An anonymity set of 1 means that there is only one VC with that field, so it can\n",
    "be linked between usages.\n",
    "\n",
    "To achieve holder binding, it is necessary to sign each presentation of a VC\n",
    "with the private key of the device.\n",
    "For the verification part, the verifier usually needs the public key.\n",
    "However, this public key is unique.\n",
    "Even worse, the holder binding needs to be done for every presentation of the VC,\n",
    "so all presentations can be linked!\n",
    "\n",
    "One way to solve this is to create many VCs for a user, each VC with a corresponding\n",
    "public key created by the Secure Element of the wallet, e.g., the phone.\n",
    "This is not an ideal solution for the following reasons: \n",
    "\n",
    "- it increases load on the server who has to issue VCs on a regular basis\n",
    "- to increase privacy, these must be renewed, even if the VCs are not used\n",
    "- some secure elements have a limit of how many private keys they can store\n",
    "\n",
    "Several other solutions have been proposed so far:\n",
    "\n",
    "- BBS# from Orange - which is missing a scientific paper\n",
    "[Presentation](https://csrc.nist.gov/csrc/media/presentations/2024/wpec2024-3b3/images-media/wpec2024-3b3-slides-antoine-jacques--BBS-sharp-eIDAS2.pdf)\n",
    "- Google ZKP, presented at Funke 24 - but in June '25 there is still no code available\n",
    "- Ubique proposed a solution based on [ZKAttest](https://eprint.iacr.org/2021/1183) - with code available, and based on a peer-reviewed paper from Cloudflare"
   ]
  },
  {
   "cell_type": "markdown",
   "id": "f0f9fce1-de8c-4cf2-b6aa-088f2fcb1c32",
   "metadata": {},
   "source": [
    "## ZKAttest from Cloudflare\n",
    "\n",
    "The ZKAttest paper from Cloudflare presents an interesting solution to create ZKPs\n",
    "on operations for the P-256 curve.\n",
    "In short, they use a new elliptic curve with properties allowing it to create short\n",
    "proofs on operations on the P-256 curve.\n",
    "This new curve is introduced in the ZKAttest paper and called `T-256`, or `Tom-256`.\n",
    "While the solution from Google is very generic and works even with an example\n",
    "using mDoc, the `T-256` curve is only useful if the VC is based on BBS(+).\n",
    "\n",
    "As with SD-JWT, the holder gets their VC from the issuer:\n",
    "\n",
    "1. The holder proves their identity, creates a keypair with their Secure Element, and sends the public key to the issuer\n",
    "2. The issuer creates a VC with all value of the fields hashed, including the public key from the holder\n",
    "3. The issuer signs the VC using the its secret key, and sends it to the holder\n",
    "4. The holder stores this VC in their device\n",
    "\n",
    "Unlike the SD-JWT, the BBS VC can be 'blinded', but still be verified using the public\n",
    "key from the issuer."
   ]
  },
  {
   "cell_type": "code",
   "execution_count": null,
   "id": "cc6a6b88-c1ad-460a-b2da-bbb83ba6026e",
   "metadata": {},
   "outputs": [],
   "source": [
    ":dep ./ecdsa\n",
    "\n",
    "println!(\"{}\", ecdsa::add(2, 3));"
   ]
  },
  {
   "cell_type": "code",
   "execution_count": null,
   "id": "1ea96e4d-ab1a-4901-9452-bc79d77727f5",
   "metadata": {},
   "outputs": [],
   "source": []
  }
 ],
 "metadata": {
  "kernelspec": {
   "display_name": "Rust",
   "language": "rust",
   "name": "rust"
  },
  "language_info": {
   "codemirror_mode": "rust",
   "file_extension": ".rs",
   "mimetype": "text/rust",
   "name": "Rust",
   "pygment_lexer": "rust",
   "version": ""
  }
 },
 "nbformat": 4,
 "nbformat_minor": 5
}
