{
 "cells": [
  {
   "cell_type": "markdown",
   "id": "d71b00f8-89da-4326-a586-185cf2516ebb",
   "metadata": {},
   "source": [
    "# BBS with ECDSA Holder Binding\n",
    "\n",
    "While BBS allows to present parts of the Verifiable Credential in an anonymous\n",
    "and unlinkable manner, there are limits.\n",
    "The [RFC](https://datatracker.ietf.org/doc/draft-irtf-cfrg-bbs-signatures/) only\n",
    "supports selective disclosure.\n",
    "This works for fields which have a big anonymity set, like the NPA, or the canton of\n",
    "residence.\n",
    "However, for more linkable fields, like the birthdate, full name, the anonymity set\n",
    "gets very small and can drop to 1.\n",
    "An anonymity set of 1 means that there is only one VC with that field, so it can\n",
    "be linked between usages.\n",
    "\n",
    "To achieve holder binding, it is necessary to sign each presentation of a VC\n",
    "with the private key of the device.\n",
    "For the verification part, the verifier usually needs the public key.\n",
    "However, this public key is unique.\n",
    "Even worse, the holder binding needs to be done for every presentation of the VC,\n",
    "so all presentations can be linked!\n",
    "\n",
    "One way to solve this is to create many VCs for a user, each VC with a corresponding\n",
    "public key created by the Secure Element of the wallet, e.g., the phone.\n",
    "This is not an ideal solution for many reasons: \n",
    "it increases load on the server\n",
    "side - to increase privacy, even if the VCs are not used; \n",
    "the secure element might have a limit of how many private keys it can store."
   ]
  },
  {
   "cell_type": "code",
   "execution_count": null,
   "id": "a2d1b68e-39af-4fa9-bfd3-93032a75ce3e",
   "metadata": {},
   "outputs": [],
   "source": []
  }
 ],
 "metadata": {
  "kernelspec": {
   "display_name": "TypeScript",
   "language": "typescript",
   "name": "tslab"
  },
  "language_info": {
   "codemirror_mode": {
    "mode": "typescript",
    "name": "javascript",
    "typescript": true
   },
   "file_extension": ".ts",
   "mimetype": "text/typescript",
   "name": "typescript",
   "version": "3.7.2"
  }
 },
 "nbformat": 4,
 "nbformat_minor": 5
}
